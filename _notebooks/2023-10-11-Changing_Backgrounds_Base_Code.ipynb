{
 "cells": [
  {
   "cell_type": "markdown",
   "metadata": {},
   "source": [
    "---\n",
    "title: Changing Backgrounds Base Code\n",
    "description: Base code that we can use to change the backdrop of our game via interactive elements (carpet, doors, invsible, etc.)\n",
    "courses: {versions: {week: 0}}\n",
    "type: game\n",
    "layout: post\n",
    "---"
   ]
  },
  {
   "cell_type": "code",
   "execution_count": 1,
   "metadata": {},
   "outputs": [
    {
     "data": {
      "text/html": [
       "<img id=\"game-background\" src=\"../images/InitialBackdrop.png\" width=\"384\" height=\"576\">\n",
       "function changeBackground(element, newBackground) {\n",
       "    element.setAttribute(\"src\",\"../images/NewBackdrop.png\");\n",
       "    element.setAttribute(\"width\",\"384\")\n",
       "    element.setAttribute(\"height\",\"576\")\n",
       "\n",
       "}\n",
       "\n",
       "// Example use\n",
       "const backgroundElement = document.getElementById(\"game-background\");\n",
       "const newBackgroundImage = \"../images/NewBackdrop.png\"; // Change to the path of your new .png image\n",
       "\n",
       "// Call the function to change the background\n",
       "changeBackground(backgroundElement, newBackgroundImage);\n",
       "// Function to change background on \"e\" key press\n",
       "        function handleKeyPress(event) {\n",
       "            if (event.key === \"e\") {\n",
       "                changeBackground(backgroundElement, newBackgroundImage);\n",
       "            }\n",
       "        }\n",
       "\n",
       "        // Add event listener to the document\n",
       "        document.addEventListener(\"keydown\", handleKeyPress);\n"
      ],
      "text/plain": [
       "<IPython.core.display.HTML object>"
      ]
     },
     "metadata": {},
     "output_type": "display_data"
    }
   ],
   "source": [
    "%%html\n",
    "<img id=\"game-background\" src=\"../images/InitialBackdrop.png\" width=\"384\" height=\"576\">\n",
    "function changeBackground(element, newBackground) {\n",
    "    element.setAttribute(\"src\",\"../images/NewBackdrop.png\");\n",
    "    element.setAttribute(\"width\",\"384\")\n",
    "    element.setAttribute(\"height\",\"576\")\n",
    "\n",
    "}\n",
    "\n",
    "// Example use\n",
    "const backgroundElement = document.getElementById(\"game-background\");\n",
    "const newBackgroundImage = \"../images/NewBackdrop.png\"; // Change to the path of your new .png image\n",
    "\n",
    "// Call the function to change the background\n",
    "changeBackground(backgroundElement, newBackgroundImage);\n",
    "// Function to change background on \"e\" key press\n",
    "        function handleKeyPress(event) {\n",
    "            if (event.key === \"e\") {\n",
    "                changeBackground(backgroundElement, newBackgroundImage);\n",
    "            }\n",
    "        }\n",
    "\n",
    "        // Add event listener to the document\n",
    "        document.addEventListener(\"keydown\", handleKeyPress);\n"
   ]
  }
 ],
 "metadata": {
  "kernelspec": {
   "display_name": "Python 3",
   "language": "python",
   "name": "python3"
  },
  "language_info": {
   "codemirror_mode": {
    "name": "ipython",
    "version": 3
   },
   "file_extension": ".py",
   "mimetype": "text/x-python",
   "name": "python",
   "nbconvert_exporter": "python",
   "pygments_lexer": "ipython3",
   "version": "3.10.12"
  },
  "orig_nbformat": 4
 },
 "nbformat": 4,
 "nbformat_minor": 2
}
