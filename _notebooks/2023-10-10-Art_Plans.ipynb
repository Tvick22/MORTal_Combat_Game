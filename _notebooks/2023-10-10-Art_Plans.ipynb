{
 "cells": [
  {
   "cell_type": "code",
   "execution_count": null,
   "metadata": {},
   "outputs": [],
   "source": [
    "---\n",
    "comments: True\n",
    "layout: post\n",
    "title: Art Plans\n",
    "description: To Do List and Things Finished\n",
    "type: plans\n",
    "courses: {'version': {'week': plans}}\n",
    "---"
   ]
  },
  {
   "cell_type": "markdown",
   "metadata": {},
   "source": [
    "## Art Plans\n",
    "\n",
    "Finished:\n",
    "Lopez Sprite\n",
    "Mortensen Sprite\n",
    "Mortensen Lab Background\n",
    "Game Logo\n",
    "Carpet Interaction PNG\n",
    "Edit Twinleaf/Avenida Town Background \n",
    "Sandgem Town Background\n",
    "Routes in between towns\n",
    "Door Interaction PNG\n",
    "\n",
    "To Do:\n",
    "Textboxes\n",
    "Title Screen Background\n",
    "Music for different areas\n",
    "\n"
   ]
  }
 ],
 "metadata": {
  "language_info": {
   "name": "python"
  },
  "orig_nbformat": 4
 },
 "nbformat": 4,
 "nbformat_minor": 2
}
