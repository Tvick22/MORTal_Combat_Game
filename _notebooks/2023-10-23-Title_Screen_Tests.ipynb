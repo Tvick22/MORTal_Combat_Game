{
 "cells": [
  {
   "cell_type": "code",
   "execution_count": null,
   "metadata": {},
   "outputs": [],
   "source": [
    "---\n",
    "title: Title Screen Animation Tests\n",
    "description: Testing the looping of the Title Screen\n",
    "layout: post\n",
    "type: game\n",
    "courses: { versions: { week: 1} }\n",
    "comments: false\n",
    "---"
   ]
  },
  {
   "cell_type": "code",
   "execution_count": 1,
   "metadata": {},
   "outputs": [
    {
     "data": {
      "text/html": [
       "\n",
       "<html>\n",
       "<head>\n",
       "    <title>GIF Switcher</title>\n",
       "</head>\n",
       "<body>\n",
       "    <button id=\"showGifButton\">Start Animation</button>\n",
       "    <img id=\"gifImage\" style=\"display: none;\">\n",
       "    \n",
       "    <script>\n",
       "        const gif1 = \"{{ site.baseurl }}/images/pokemortloop1.gif\"; // First loop with title animation\n",
       "        const gif2 = \"{{ site.baseurl }}/images/pokemortloop2.gif\"; // Second loop with standstill title and only clouds moving\n",
       "\n",
       "        const gifImage = document.getElementById(\"gifImage\");\n",
       "        const showGifButton = document.getElementById(\"showGifButton\");\n",
       "\n",
       "        showGifButton.addEventListener(\"click\", function() {\n",
       "            gifImage.src = gif1;\n",
       "            gifImage.style.display = \"block\";\n",
       "            showGifButton.disabled = true;\n",
       "            \n",
       "            setTimeout(function() {\n",
       "                gifImage.src = gif2;\n",
       "            }, 11100); // Switch to the second GIF after 12 seconds\n",
       "        });\n",
       "    </script>\n",
       "</body>\n",
       "</html>\n",
       "\n",
       "\n"
      ],
      "text/plain": [
       "<IPython.core.display.HTML object>"
      ]
     },
     "metadata": {},
     "output_type": "display_data"
    }
   ],
   "source": [
    "%%html\n",
    "\n",
    "<html>\n",
    "<head>\n",
    "    <title>GIF Switcher</title>\n",
    "</head>\n",
    "<body>\n",
    "    <button id=\"showGifButton\">Start Animation</button>\n",
    "    <img id=\"gifImage\" style=\"display: none;\">\n",
    "    \n",
    "    <script>\n",
    "        const gif1 = \"{{ site.baseurl }}/images/pokemortloop1.gif\"; // First loop with title animation\n",
    "        const gif2 = \"{{ site.baseurl }}/images/pokemortloop2.gif\"; // Second loop with standstill title and only clouds moving\n",
    "\n",
    "        const gifImage = document.getElementById(\"gifImage\");\n",
    "        const showGifButton = document.getElementById(\"showGifButton\");\n",
    "\n",
    "        showGifButton.addEventListener(\"click\", function() {\n",
    "            gifImage.src = gif1;\n",
    "            gifImage.style.display = \"block\";\n",
    "            showGifButton.disabled = true;\n",
    "            \n",
    "            setTimeout(function() {\n",
    "                gifImage.src = gif2;\n",
    "            }, 11100); // Switch to the second GIF after 12 seconds\n",
    "        });\n",
    "    </script>\n",
    "</body>\n",
    "</html>\n",
    "\n",
    "\n"
   ]
  }
 ],
 "metadata": {
  "kernelspec": {
   "display_name": "Python 3",
   "language": "python",
   "name": "python3"
  },
  "language_info": {
   "codemirror_mode": {
    "name": "ipython",
    "version": 3
   },
   "file_extension": ".py",
   "mimetype": "text/x-python",
   "name": "python",
   "nbconvert_exporter": "python",
   "pygments_lexer": "ipython3",
   "version": "3.10.12"
  },
  "orig_nbformat": 4
 },
 "nbformat": 4,
 "nbformat_minor": 2
}
