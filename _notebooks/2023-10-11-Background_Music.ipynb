{
 "cells": [
  {
   "cell_type": "code",
   "execution_count": null,
   "metadata": {},
   "outputs": [],
   "source": [
    "---\n",
    "comments: True\n",
    "layout: post\n",
    "title: Art Plans\n",
    "description: To Do List and Things Finished\n",
    "type: plans\n",
    "courses: {'version': {'week': plans}}\n",
    "---"
   ]
  },
  {
   "cell_type": "code",
   "execution_count": null,
   "metadata": {},
   "outputs": [],
   "source": [
    "%%html\n",
    "<!DOCTYPE html>\n",
    "<html lang=\"en\">\n",
    "<head>\n",
    "  <meta charset=\"UTF-8\">\n",
    "  <meta name=\"viewport\" content=\"width=device-width, initial-scale=1.0\">\n",
    "  <title>Game Background Music Player</title>\n",
    "</head>\n",
    "<body>\n",
    "  <audio id=\"background-music\" controls>\n",
    "    Your browser does not support the audio element.\n",
    "  </audio>\n",
    "\n",
    "  <div id=\"area1\">\n",
    "    <button onclick=\"playMusic('music1.mp3')\">Play Music for Area 1</button>\n",
    "  </div>\n",
    "\n",
    "  <div id=\"area2\">\n",
    "    <button onclick=\"playMusic('music2.mp3')\">Play Music for Area 2</button>\n",
    "  </div>\n",
    "\n",
    "  <script src=\"Background_Music.js\"></script>\n",
    "</body>\n",
    "</html>\n"
   ]
  }
 ],
 "metadata": {
  "language_info": {
   "name": "python"
  },
  "orig_nbformat": 4
 },
 "nbformat": 4,
 "nbformat_minor": 2
}
