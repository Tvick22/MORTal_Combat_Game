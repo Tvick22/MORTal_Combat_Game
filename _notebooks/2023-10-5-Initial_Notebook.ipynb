{
 "cells": [
  {
   "cell_type": "code",
   "execution_count": null,
   "metadata": {},
   "outputs": [],
   "source": [
    "---\n",
    "toc: true\n",
    "comments: true\n",
    "title: Test Notebook\n",
    "description: This is to make sure we can upload notebooks into the time box\n",
    "courses: {versions: {week: 0}}\n",
    "layout: post\n",
    "type: hacks\n",
    "--- "
   ]
  },
  {
   "cell_type": "markdown",
   "metadata": {},
   "source": [
    "# Test Notebook\n",
    "- BLAH BLAH BLAH\n",
    "    - BLAH"
   ]
  }
 ],
 "metadata": {
  "language_info": {
   "name": "python"
  },
  "orig_nbformat": 4
 },
 "nbformat": 4,
 "nbformat_minor": 2
}
