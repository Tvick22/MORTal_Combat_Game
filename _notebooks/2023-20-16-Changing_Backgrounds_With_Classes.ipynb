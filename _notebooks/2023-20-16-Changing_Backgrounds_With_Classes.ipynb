{
 "cells": [
  {
   "cell_type": "markdown",
   "metadata": {},
   "source": [
    "---\n",
    "title: Changing Backgrounds with Classes\n",
    "description: Easier way for us to change out the game backgrounds using classes and a loadZone\n",
    "layout: post\n",
    "type: game\n",
    "courses: { versions: { week: 1} }\n",
    "---"
   ]
  },
  {
   "cell_type": "code",
   "execution_count": null,
   "metadata": {},
   "outputs": [],
   "source": [
    "%%js\n",
    "\n",
    "// Build the parent class\n",
    "class LoadZone{\n",
    "    constructor(dimensions, imageSource){\n",
    "    this.dimensions = \"dimensions\";\n",
    "    this.imageSource = \"imageSource\";\n",
    "    }\n",
    "\n",
    "    // Save the characteristics from parent class so we can super later on\n",
    "    print(){\n",
    "        console.log(this.dimensions\n",
    "                    this.imageSource)\n",
    "    }\n",
    "}\n",
    "\n",
    "// Make a child class to extend the LoadZone parent class\n",
    "class Rug extends LoadZone{\n",
    "    constructor(dimensions, imageSource){\n",
    "        super (dimensions, imageSource)\n",
    "    }\n",
    "}\n",
    "\n",
    "// Define the variables\n",
    "var rugDimensions = \"8x10\" // Replace with whatever dimension apply\n",
    "var rugimageSource = \"../images/Carpet_Interact.png\" // Replace with whatever image applies (3 of ../ for a .md psot)\n",
    "var rug = new Rug(rugDimensions, rugimageSource)\n",
    "\n",
    "var loadZones = [rug]; // Use an array to store the animals\n",
    "for (var loadZone of loadZones) {\n",
    "    loadZones.print();\n",
    "}"
   ]
  },
  {
   "cell_type": "markdown",
   "metadata": {},
   "source": [
    "# Notes\n",
    "- This may not be needed if Nate's collision code works with the intersecting rectangles\n",
    "- Class mostly comes into play with the rectangles since it can allow us to easily create a list of collision zones that can all be checked at once\n",
    "- I think the most liekly place where we use this is just holding a list of hitbox properties that will remain consistent \n",
    "    - Maybe a parent class for changeBackground hitboxes, maybe a parent class for interaction hitboxes"
   ]
  },
  {
   "cell_type": "code",
   "execution_count": 1,
   "metadata": {},
   "outputs": [
    {
     "data": {
      "application/javascript": "\n// Define the hitbox coordinates and dimensions\nconst hitboxX = 100; // Replace with the X-coordinate of whatever hitbox we are using \nconst hitboxY = 100; // Replace with the Y-coordinate of whatever hitbox we are using\nconst hitboxWidth = 50; // Replace with the width of whatever hitbox we are using\nconst hitboxHeight = 50; // Replace with the height of whatever hitbox we are using\n\n// Function to check if the sprite rectangle is inside the hitbox\nfunction isPointInsideHitbox(x, y) {\n    return (\n        x >= hitboxX &&\n        x <= hitboxX + hitboxWidth &&\n        y >= hitboxY &&\n        y <= hitboxY + hitboxHeight\n    );\n}\n\n// Function to change the background\nfunction changeBackground(newBackgroundImage) {\n    const canvas = document.getElementById('game-canvas');\n    canvas.style.backgroundImage = `url(${newBackgroundImage})`;\n    // We may need to change other styles such as background dimensions based on our needs\n}\n\n// Change accordingly depending on our existing code for collision logic\nfunction handleCollision(spriteX, spriteY) {\n    // Check if the sprite's position is inside the hitbox\n    if (isPointInsideHitbox(spriteX, spriteY)) {\n        // Call the changeBackground function with the new background image URL\n        changeBackground('new-background-image.jpg');\n    }\n}\n",
      "text/plain": [
       "<IPython.core.display.Javascript object>"
      ]
     },
     "metadata": {},
     "output_type": "display_data"
    }
   ],
   "source": [
    "%%js\n",
    "\n",
    "// Define the hitbox coordinates and dimensions\n",
    "const hitboxX = 100; // Replace with the X-coordinate of whatever hitbox we are using \n",
    "const hitboxY = 100; // Replace with the Y-coordinate of whatever hitbox we are using\n",
    "const hitboxWidth = 50; // Replace with the width of whatever hitbox we are using\n",
    "const hitboxHeight = 50; // Replace with the height of whatever hitbox we are using\n",
    "\n",
    "// Function to check if the sprite rectangle is inside the hitbox\n",
    "function isPointInsideHitbox(x, y) {\n",
    "    return (\n",
    "        x >= hitboxX &&\n",
    "        x <= hitboxX + hitboxWidth &&\n",
    "        y >= hitboxY &&\n",
    "        y <= hitboxY + hitboxHeight\n",
    "    );\n",
    "}\n",
    "\n",
    "// Function to change the background\n",
    "function changeBackground(newBackgroundImage) {\n",
    "    const canvas = document.getElementById('game-canvas');\n",
    "    canvas.style.backgroundImage = `url(${newBackgroundImage})`;\n",
    "    // We may need to change other styles such as background dimensions based on our needs\n",
    "}\n",
    "\n",
    "// Change accordingly depending on our existing code for collision logic\n",
    "function handleCollision(spriteX, spriteY) {\n",
    "    // Check if the sprite's position is inside the hitbox\n",
    "    if (isPointInsideHitbox(spriteX, spriteY)) {\n",
    "        // Call the changeBackground function with the new background image URL\n",
    "        changeBackground('new-background-image.jpg');\n",
    "    }\n",
    "}"
   ]
  }
 ],
 "metadata": {
  "kernelspec": {
   "display_name": "Python 3",
   "language": "python",
   "name": "python3"
  },
  "language_info": {
   "codemirror_mode": {
    "name": "ipython",
    "version": 3
   },
   "file_extension": ".py",
   "mimetype": "text/x-python",
   "name": "python",
   "nbconvert_exporter": "python",
   "pygments_lexer": "ipython3",
   "version": "3.10.12"
  },
  "orig_nbformat": 4
 },
 "nbformat": 4,
 "nbformat_minor": 2
}
