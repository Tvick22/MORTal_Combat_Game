{
 "cells": [
  {
   "cell_type": "code",
   "execution_count": null,
   "metadata": {},
   "outputs": [],
   "source": [
    "---\n",
    "comments: True\n",
    "layout: post\n",
    "title: Project Plans\n",
    "description: Plans and Ideas\n",
    "type: plans\n",
    "courses: {'version': {'week': 0}}\n",
    "---"
   ]
  },
  {
   "cell_type": "markdown",
   "metadata": {},
   "source": [
    "## Plans\n",
    "\n",
    "Wall/NPC collisions needed\n",
    "Debugging on walking animations (stopping and going to the idle position/first frame)\n",
    "Door/Carpet interactions\n",
    "Background changing based on same interactions above (entering/leaving area)\n",
    "Interaction key to talk to NPCs, bookshelves, etc.\n",
    "Camera following player, game centered around the player\n",
    "Music background based on area"
   ]
  }
 ],
 "metadata": {
  "language_info": {
   "name": "python"
  },
  "orig_nbformat": 4
 },
 "nbformat": 4,
 "nbformat_minor": 2
}
