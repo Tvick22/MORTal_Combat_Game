{
 "cells": [
  {
   "cell_type": "markdown",
   "metadata": {},
   "source": [
    "---\n",
    "title: Interactive Elements Base Code\n",
    "description: Baseline code for us to add interactive elements into the game\n",
    "type: game\n",
    "layout: post\n",
    "courses: {versions: {week: 0}}\n",
    "---"
   ]
  },
  {
   "cell_type": "code",
   "execution_count": 6,
   "metadata": {},
   "outputs": [
    {
     "data": {
      "text/html": [
       "<img id=\"carpet\" src=\"../images/Carpet_Interact.png\" alt=\"Interactive Carpet\">\n",
       "<div id=\"message-box\"></div>\n",
       "const interactiveImage = document.getElementById(\"interactive-image\");\n",
       "\n",
       "// Add a keydown event listener to the document\n",
       "document.addEventListener(\"keydown\", function (event) {\n",
       "  // Check if the pressed key is \"e\"\n",
       "  if (event.key === \"e\") {\n",
       "    // Call the function to perform the image action\n",
       "     displayMessage(\"E key was pressed!\");\n",
       "  }\n",
       "});\n",
       "function displayMessage(message) {\n",
       "  // Set the content of the message box to the provided message\n",
       "  messageBox.textContent = message;\n",
       "}\n"
      ],
      "text/plain": [
       "<IPython.core.display.HTML object>"
      ]
     },
     "metadata": {},
     "output_type": "display_data"
    }
   ],
   "source": [
    "%%html\n",
    "<img id=\"carpet\" src=\"../images/Carpet_Interact.png\" alt=\"Interactive Carpet\">\n",
    "<div id=\"message-box\"></div>\n",
    "const interactiveImage = document.getElementById(\"interactive-image\");\n",
    "\n",
    "// Add a keydown event listener to the document\n",
    "document.addEventListener(\"keydown\", function (event) {\n",
    "  // Check if the pressed key is \"e\"\n",
    "  if (event.key === \"e\") {\n",
    "    // Call the function to perform the image action\n",
    "     displayMessage(\"E key was pressed!\");\n",
    "  }\n",
    "});\n",
    "function displayMessage(message) {\n",
    "  // Set the content of the message box to the provided message\n",
    "  messageBox.textContent = message;\n",
    "}\n"
   ]
  },
  {
   "cell_type": "markdown",
   "metadata": {},
   "source": [
    "# Notes\n",
    "- Obviously this can't be copied line for line every time we need an interactive element\n",
    "- Will need to edit what begins the interaction and what the output is depending on situation\n",
    "- This is a good baseline to use whenever we want to create an interactive element on one of our backgrounds"
   ]
  }
 ],
 "metadata": {
  "kernelspec": {
   "display_name": "Python 3",
   "language": "python",
   "name": "python3"
  },
  "language_info": {
   "codemirror_mode": {
    "name": "ipython",
    "version": 3
   },
   "file_extension": ".py",
   "mimetype": "text/x-python",
   "name": "python",
   "nbconvert_exporter": "python",
   "pygments_lexer": "ipython3",
   "version": "3.10.12"
  },
  "orig_nbformat": 4
 },
 "nbformat": 4,
 "nbformat_minor": 2
}
