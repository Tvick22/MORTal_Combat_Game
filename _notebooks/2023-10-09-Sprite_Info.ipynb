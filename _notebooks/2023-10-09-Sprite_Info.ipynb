{
 "cells": [
  {
   "cell_type": "code",
   "execution_count": null,
   "metadata": {},
   "outputs": [],
   "source": [
    "---\n",
    "layout: post\n",
    "title: Spritesheet Info\n",
    "description: Information on sprite sizes \n",
    "type: plans\n",
    "courses: { versions: {week: 0} }\n",
    "---"
   ]
  },
  {
   "cell_type": "markdown",
   "metadata": {},
   "source": [
    "## Spritesheet Info\n",
    "\n",
    "Mortensen Spritesheet size: 74 px x 104 px\n",
    "1 mort is 16 px x 24 px \n",
    "\n",
    "Lopez Spritesheet size: 169 px x 192 px\n",
    "1 front/back Lopez is 41 px x 47 px\n",
    "1 right/left Lopez is 31 px x 43 px "
   ]
  }
 ],
 "metadata": {
  "language_info": {
   "name": "python"
  },
  "orig_nbformat": 4
 },
 "nbformat": 4,
 "nbformat_minor": 2
}
