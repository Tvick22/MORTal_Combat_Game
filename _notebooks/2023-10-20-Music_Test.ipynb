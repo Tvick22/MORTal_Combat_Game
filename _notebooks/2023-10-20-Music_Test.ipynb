{
 "cells": [
  {
   "cell_type": "code",
   "execution_count": null,
   "metadata": {},
   "outputs": [],
   "source": [
    "---\n",
    "title: Music Test\n",
    "description: First MP3 added \n",
    "layout: post\n",
    "type: game\n",
    "courses: { versions: { week: 1} }\n",
    "comments: false\n",
    "---"
   ]
  },
  {
   "cell_type": "code",
   "execution_count": null,
   "metadata": {},
   "outputs": [],
   "source": [
    "%%html \n",
    "\n",
    "<head>\n",
    "    <!-- Add background music and control button -->\n",
    "    <audio id=\"backgroundMusic\" loop autoplay>\n",
    "        <source src=\"{{ site.baseurl }}/images/plug2919.mp3\" type=\"audio/mpeg\">\n",
    "    </audio>\n",
    "\n",
    "    <button id=\"audioControlButton\">Toggle Music</button>\n",
    "</head>\n",
    "\n",
    "<html>\n",
    "    <div class=\"gameWrapper\">\n",
    "        <!-- Your existing code... -->\n",
    "    </div>\n",
    "</html>\n",
    "\n",
    "<script>\n",
    "    // Get the audio element and the control button by their IDs\n",
    "    const backgroundMusic = document.getElementById(\"backgroundMusic\");\n",
    "    const audioControlButton = document.getElementById(\"audioControlButton\");\n",
    "\n",
    "    // Function to toggle the audio (play/pause)\n",
    "    function toggleAudio() {\n",
    "        if (backgroundMusic.paused) {\n",
    "            backgroundMusic.play();\n",
    "        } else {\n",
    "            backgroundMusic.pause();\n",
    "        }\n",
    "    }\n",
    "\n",
    "    // Add a click event listener to the control button\n",
    "    audioControlButton.addEventListener(\"click\", toggleAudio);\n",
    "</script>"
   ]
  }
 ],
 "metadata": {
  "language_info": {
   "name": "python"
  },
  "orig_nbformat": 4
 },
 "nbformat": 4,
 "nbformat_minor": 2
}
