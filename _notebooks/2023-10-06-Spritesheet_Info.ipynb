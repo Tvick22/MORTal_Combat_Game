{
 "cells": [
  {
   "cell_type": "code",
   "execution_count": null,
   "metadata": {},
   "outputs": [],
   "source": [
    "## Spritesheet Info\n",
    "\n",
    "Mortensen Spritesheet size: 74 px x 104 px\n",
    "1 mort is 16 px x 24 px \n",
    "\n",
    "Lopez Spritesheet size: 169 px x 192 px\n",
    "1 front/back Lopez is 41 px x 47 px\n",
    "1 right/left Lopez is 31 px x 43 px "
   ]
  }
 ],
 "metadata": {
  "language_info": {
   "name": "python"
  },
  "orig_nbformat": 4
 },
 "nbformat": 4,
 "nbformat_minor": 2
}
